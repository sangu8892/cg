{
 "cells": [
  {
   "cell_type": "code",
   "execution_count": 7,
   "id": "12db2a1e-0f33-419a-880f-8efdccdd938c",
   "metadata": {},
   "outputs": [],
   "source": [
    "#pgm10 \n",
    "\n",
    "import cv2\n",
    "import numpy as np\n",
    "\n",
    "def display_img(title,image):\n",
    "    cv2.imshow(title,image)\n",
    "    cv2.waitKey(0)\n",
    "    cv2.destroyAllWindows()\n",
    "\n",
    "def blur_img(image):\n",
    "    blurred=cv2.GaussianBlur(image,(25,25),0)\n",
    "    return blurred\n",
    "\n",
    "def main():\n",
    "    path=\"c.jpeg\"\n",
    "    org_img=cv2.imread(path)\n",
    "    blur=blur_img(org_img)\n",
    "    display_img(\"Original Image\",org_img)\n",
    "    display_img(\"Blurred Image\",blur)\n",
    "\n",
    "if __name__==\"__main__\":\n",
    "    main()\n",
    "                                "
   ]
  },
  {
   "cell_type": "code",
   "execution_count": null,
   "id": "9ce0dfd6-e68a-46cb-9c4f-e62d43f5f6ac",
   "metadata": {},
   "outputs": [],
   "source": []
  }
 ],
 "metadata": {
  "kernelspec": {
   "display_name": "Python 3 (ipykernel)",
   "language": "python",
   "name": "python3"
  },
  "language_info": {
   "codemirror_mode": {
    "name": "ipython",
    "version": 3
   },
   "file_extension": ".py",
   "mimetype": "text/x-python",
   "name": "python",
   "nbconvert_exporter": "python",
   "pygments_lexer": "ipython3",
   "version": "3.11.9"
  }
 },
 "nbformat": 4,
 "nbformat_minor": 5
}
