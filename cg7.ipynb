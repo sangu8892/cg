{
 "cells": [
  {
   "cell_type": "code",
   "execution_count": 6,
   "id": "885ab631-c459-42ca-8c01-7cdc291da299",
   "metadata": {},
   "outputs": [],
   "source": [
    "import cv2\n",
    "def split_img(img_path):\n",
    "    image=cv2.imread(img_path)\n",
    "    height,width,_=image.shape\n",
    "    left=image[0:height,0:width//2]\n",
    "    right=image[0:height,width//2:width]\n",
    "    up=image[0:height//2,0:width]\n",
    "    down=image[height//2:height,0:width]\n",
    "    return left,right,up,down\n",
    "\n",
    "def display_quadrants(left,right,up,down):\n",
    "    cv2.imshow(\"left quadrant\",left)\n",
    "    cv2.imshow(\"right quadrant\",right)\n",
    "    cv2.imshow(\"up quadrant\",up)\n",
    "    cv2.imshow(\"down quadrant\",down)\n",
    "    cv2.waitKey(0)\n",
    "    cv2.destroyAllWindows()\n",
    "\n",
    "def main():\n",
    "    img_path=\"c1.jpg\"\n",
    "    left,right,up,down=split_img(img_path)\n",
    "    display_quadrants(left,right,up,down)\n",
    "\n",
    "if __name__ == \"__main__\":\n",
    "    main()\n",
    "    \n",
    "    "
   ]
  },
  {
   "cell_type": "code",
   "execution_count": null,
   "id": "6d960355-15b2-4c6e-ba87-f8081c157531",
   "metadata": {},
   "outputs": [],
   "source": []
  },
  {
   "cell_type": "code",
   "execution_count": null,
   "id": "b4208c1a-a47b-4342-a330-dd42d8f8fb37",
   "metadata": {},
   "outputs": [],
   "source": []
  }
 ],
 "metadata": {
  "kernelspec": {
   "display_name": "Python 3 (ipykernel)",
   "language": "python",
   "name": "python3"
  },
  "language_info": {
   "codemirror_mode": {
    "name": "ipython",
    "version": 3
   },
   "file_extension": ".py",
   "mimetype": "text/x-python",
   "name": "python",
   "nbconvert_exporter": "python",
   "pygments_lexer": "ipython3",
   "version": "3.11.9"
  }
 },
 "nbformat": 4,
 "nbformat_minor": 5
}
