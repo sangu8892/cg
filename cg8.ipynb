{
 "cells": [
  {
   "cell_type": "code",
   "execution_count": 1,
   "id": "2d560413-8da0-4db6-94e2-f95e03921c0c",
   "metadata": {},
   "outputs": [],
   "source": [
    "import cv2\n",
    "import numpy as np\n",
    "def rotate_image(image,angle):\n",
    "    height,width=image.shape[:2]\n",
    "    rotation_matrix=cv2.getRotationMatrix2D((width/2,height/2),angle,1)\n",
    "    rotated_image=cv2.warpAffine(image,rotation_matrix,(width,height))\n",
    "    return rotated_image\n",
    "\n",
    "def scale_image(image,scale_factor):\n",
    "    scaled_image=cv2.resize(image, None ,fx=scale_factor ,fy=scale_factor,interpolation=cv2.INTER_LINEAR)\n",
    "    return scaled_image\n",
    "\n",
    "def translate_image(image,tx,ty):\n",
    "    translation_matrix=np.float32([[1,0,tx],[0,1,ty]])\n",
    "    translated_image=cv2.warpAffine(image,translation_matrix,(image.shape[1],image.shape[0]))\n",
    "    return translated_image\n",
    "\n",
    "def main():\n",
    "    img_path=\"c.jpeg\"\n",
    "    org_img=cv2.imread(img_path)\n",
    "\n",
    "    rotated_image=rotate_image(org_img,45)\n",
    "    scaled_image=scale_image(org_img,1.5)\n",
    "    translated_image=translate_image(org_img,50,50)\n",
    "    \n",
    "    cv2.imshow(\"org Image\",org_img)\n",
    "    cv2.imshow(\"Rotated Image\",rotated_image)\n",
    "    cv2.imshow(\"scaled Image\",scaled_image)\n",
    "    cv2.imshow(\"trans Image\",translated_image)\n",
    "    cv2.waitKey(0)\n",
    "    cv2.destroyAllWindows()\n",
    "\n",
    "if __name__==\"__main__\":\n",
    "    main()\n",
    "    \n",
    "    \n",
    "    "
   ]
  },
  {
   "cell_type": "code",
   "execution_count": null,
   "id": "4fd25c15-ff2d-4d48-b0f9-19eface24739",
   "metadata": {},
   "outputs": [],
   "source": []
  }
 ],
 "metadata": {
  "kernelspec": {
   "display_name": "Python 3 (ipykernel)",
   "language": "python",
   "name": "python3"
  },
  "language_info": {
   "codemirror_mode": {
    "name": "ipython",
    "version": 3
   },
   "file_extension": ".py",
   "mimetype": "text/x-python",
   "name": "python",
   "nbconvert_exporter": "python",
   "pygments_lexer": "ipython3",
   "version": "3.11.9"
  }
 },
 "nbformat": 4,
 "nbformat_minor": 5
}
