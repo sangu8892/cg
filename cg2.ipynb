{
 "cells": [
  {
   "cell_type": "code",
   "execution_count": null,
   "id": "9c6842ef-d325-4610-90c5-20fe8e032d0c",
   "metadata": {},
   "outputs": [],
   "source": [
    "from OpenGL.GL import *\n",
    "from OpenGL.GLU import *\n",
    "from OpenGL.GLUT import *\n",
    "\n",
    "def init():\n",
    "    glClearColor(1.0,1.0,1.0,1.0)\n",
    "    gluOrtho2D(0,100,0,100)\n",
    "    glMatrixMode(GL_PROJECTION)\n",
    "    glLoadIdentity()\n",
    "    glClear(GL_COLOR_BUFFER_BIT)\n",
    "\n",
    "def draw():\n",
    "    glColor3f(0.0,1.0,0.0)\n",
    "    glPointSize(10.0)\n",
    "    glBegin(GL_POLYGON)\n",
    "    glVertex2i(10,20)\n",
    "    glVertex2i(80,20)\n",
    "    glVertex2i(80,60)\n",
    "    glVertex2i(10,60)\n",
    "    glEnd()\n",
    "    glFlush()\n",
    "\n",
    "def main():\n",
    "    glutInit()\n",
    "    glutInitWindowSize(500,500)\n",
    "    glutCreateWindow(\"2d object\")\n",
    "    glutDisplayFunc(draw)\n",
    "    init()\n",
    "    glutMainLoop()\n",
    "\n",
    "if __name__ == \"__main__\":\n",
    "    main()\n",
    "    "
   ]
  },
  {
   "cell_type": "code",
   "execution_count": null,
   "id": "d8e765c0-8a3f-4324-83aa-2da983cc3993",
   "metadata": {},
   "outputs": [],
   "source": []
  }
 ],
 "metadata": {
  "kernelspec": {
   "display_name": "Python 3 (ipykernel)",
   "language": "python",
   "name": "python3"
  },
  "language_info": {
   "codemirror_mode": {
    "name": "ipython",
    "version": 3
   },
   "file_extension": ".py",
   "mimetype": "text/x-python",
   "name": "python",
   "nbconvert_exporter": "python",
   "pygments_lexer": "ipython3",
   "version": "3.11.9"
  }
 },
 "nbformat": 4,
 "nbformat_minor": 5
}
