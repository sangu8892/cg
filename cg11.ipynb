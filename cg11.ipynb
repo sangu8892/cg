{
 "cells": [
  {
   "cell_type": "code",
   "execution_count": 1,
   "id": "12db2a1e-0f33-419a-880f-8efdccdd938c",
   "metadata": {},
   "outputs": [
    {
     "ename": "UnboundLocalError",
     "evalue": "cannot access local variable 'binary' where it is not associated with a value",
     "output_type": "error",
     "traceback": [
      "\u001b[1;31m---------------------------------------------------------------------------\u001b[0m",
      "\u001b[1;31mUnboundLocalError\u001b[0m                         Traceback (most recent call last)",
      "Cell \u001b[1;32mIn[1], line 21\u001b[0m\n\u001b[0;32m     18\u001b[0m     cv2\u001b[38;5;241m.\u001b[39mdestroyAllWindows()\n\u001b[0;32m     20\u001b[0m \u001b[38;5;28;01mif\u001b[39;00m \u001b[38;5;18m__name__\u001b[39m\u001b[38;5;241m==\u001b[39m\u001b[38;5;124m\"\u001b[39m\u001b[38;5;124m__main__\u001b[39m\u001b[38;5;124m\"\u001b[39m:\n\u001b[1;32m---> 21\u001b[0m     \u001b[43mmain\u001b[49m\u001b[43m(\u001b[49m\u001b[43m)\u001b[49m\n",
      "Cell \u001b[1;32mIn[1], line 15\u001b[0m, in \u001b[0;36mmain\u001b[1;34m()\u001b[0m\n\u001b[0;32m     12\u001b[0m org\u001b[38;5;241m=\u001b[39mcv2\u001b[38;5;241m.\u001b[39mimread(path)\n\u001b[0;32m     14\u001b[0m cv2\u001b[38;5;241m.\u001b[39mimshow(\u001b[38;5;124m\"\u001b[39m\u001b[38;5;124moriginal image\u001b[39m\u001b[38;5;124m\"\u001b[39m,org)\n\u001b[1;32m---> 15\u001b[0m cimage\u001b[38;5;241m=\u001b[39m\u001b[43mcontour_image\u001b[49m\u001b[43m(\u001b[49m\u001b[43morg\u001b[49m\u001b[43m)\u001b[49m\n\u001b[0;32m     16\u001b[0m cv2\u001b[38;5;241m.\u001b[39mimshow(\u001b[38;5;124m\"\u001b[39m\u001b[38;5;124mc img\u001b[39m\u001b[38;5;124m\"\u001b[39m,cimage)\n\u001b[0;32m     17\u001b[0m cv2\u001b[38;5;241m.\u001b[39mwaitKey(\u001b[38;5;241m0\u001b[39m)\n",
      "Cell \u001b[1;32mIn[1], line 4\u001b[0m, in \u001b[0;36mcontour_image\u001b[1;34m(image)\u001b[0m\n\u001b[0;32m      2\u001b[0m \u001b[38;5;28;01mdef\u001b[39;00m \u001b[38;5;21mcontour_image\u001b[39m(image):\n\u001b[0;32m      3\u001b[0m     gray\u001b[38;5;241m=\u001b[39mcv2\u001b[38;5;241m.\u001b[39mcvtColor(image,cv2\u001b[38;5;241m.\u001b[39mCOLOR_BGR2GRAY)\n\u001b[1;32m----> 4\u001b[0m     _,binary\u001b[38;5;241m=\u001b[39mcv2\u001b[38;5;241m.\u001b[39mthreshold(\u001b[43mbinary\u001b[49m,\u001b[38;5;241m127\u001b[39m,\u001b[38;5;241m255\u001b[39m,cv2\u001b[38;5;241m.\u001b[39mTHRESH_BINARY)\n\u001b[0;32m      5\u001b[0m     contour,_\u001b[38;5;241m=\u001b[39mcv2\u001b[38;5;241m.\u001b[39mfindContours(binary,cv2\u001b[38;5;241m.\u001b[39mRETR_EXTERNAL,cv2\u001b[38;5;241m.\u001b[39mCHAIN_APPROX_SIMPLE)\n\u001b[0;32m      6\u001b[0m     contour_image\u001b[38;5;241m=\u001b[39mimage\u001b[38;5;241m.\u001b[39mcopy()\n",
      "\u001b[1;31mUnboundLocalError\u001b[0m: cannot access local variable 'binary' where it is not associated with a value"
     ]
    }
   ],
   "source": [
    "import cv2\n",
    "def contour_image(image):\n",
    "    gray=cv2.cvtColor(image,cv2.COLOR_BGR2GRAY)\n",
    "    _,binary=cv2.threshold(binary,127,255,cv2.THRESH_BINARY)\n",
    "    contour,_=cv2.findContours(binary,cv2.RETR_EXTERNAL,cv2.CHAIN_APPROX_SIMPLE)\n",
    "    contour_image=image.copy()\n",
    "    cv2.drawContours(contour_image,contour,-1,(0,255,0),2)\n",
    "    return contour_image\n",
    "\n",
    "def main():\n",
    "    path=\"c.jpeg\"\n",
    "    org=cv2.imread(path)\n",
    "\n",
    "    cv2.imshow(\"original image\",org)\n",
    "    cimage=contour_image(org)\n",
    "    cv2.imshow(\"c img\",cimage)\n",
    "    cv2.waitKey(0)\n",
    "    cv2.destroyAllWindows()\n",
    "\n",
    "if __name__==\"__main__\":\n",
    "    main()"
   ]
  },
  {
   "cell_type": "code",
   "execution_count": null,
   "id": "36cd2f22-5cba-4c0c-a2ac-e470e6eab92f",
   "metadata": {},
   "outputs": [],
   "source": []
  }
 ],
 "metadata": {
  "kernelspec": {
   "display_name": "Python 3 (ipykernel)",
   "language": "python",
   "name": "python3"
  },
  "language_info": {
   "codemirror_mode": {
    "name": "ipython",
    "version": 3
   },
   "file_extension": ".py",
   "mimetype": "text/x-python",
   "name": "python",
   "nbconvert_exporter": "python",
   "pygments_lexer": "ipython3",
   "version": "3.11.9"
  }
 },
 "nbformat": 4,
 "nbformat_minor": 5
}
