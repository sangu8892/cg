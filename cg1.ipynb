{
 "cells": [
  {
   "cell_type": "code",
   "execution_count": null,
   "id": "11e14bb6-584a-400b-8f3f-ea319d5dd72d",
   "metadata": {},
   "outputs": [
    {
     "name": "stdin",
     "output_type": "stream",
     "text": [
      "Enter the x1:  10\n",
      "Enter the y1:  20\n",
      "Enter the x2:  30\n",
      "Enter the y2:  40\n"
     ]
    },
    {
     "name": "stdout",
     "output_type": "stream",
     "text": [
      "starting window\n"
     ]
    }
   ],
   "source": [
    "from OpenGL.GL import *\n",
    "from OpenGL.GLU import *\n",
    "from OpenGL.GLUT import *\n",
    "\n",
    "def init():\n",
    "    glClearColor(0.0,0.0,0.0,1.0)\n",
    "    gluOrtho2D(0,100,0,100)\n",
    "def plotLines(x1,y1,x2,y2):\n",
    "    m=2*(y2-y1)\n",
    "    pk=m-(x2-x1)\n",
    "    y=y1\n",
    "    glClear(GL_COLOR_BUFFER_BIT)\n",
    "    glColor3f(1.0,0.0,0.0)\n",
    "    glPointSize(5.0)\n",
    "    glBegin(GL_POINTS)\n",
    "    for x in range(x1,x2+1):\n",
    "        glVertex2f(x,y)\n",
    "        pk=pk+m\n",
    "        if(pk>=0):\n",
    "            y=y+1\n",
    "            pk=pk-2*(x2-x1)\n",
    "    glEnd()\n",
    "    glFlush()\n",
    "\n",
    "x1=int(input(\"Enter the x1: \"))\n",
    "y1=int(input(\"Enter the y1: \"))\n",
    "x2=int(input(\"Enter the x2: \"))\n",
    "y2=int(input(\"Enter the y2: \"))\n",
    "print(\"starting window\")\n",
    "\n",
    "glutInit(sys.argv)\n",
    "glutInitDisplayMode(GLUT_RGB)\n",
    "glutInitWindowSize(500,500)\n",
    "glutInitWindowPosition(0,0)\n",
    "glutCreateWindow(\"Line drawing algorithm\")\n",
    "glutDisplayFunc(lambda:plotLines(x1,y1,x2,y2))\n",
    "init()\n",
    "glutMainLoop()"
   ]
  },
  {
   "cell_type": "code",
   "execution_count": null,
   "id": "6f4d38bc-d3a6-4929-be19-05029ae55ac3",
   "metadata": {},
   "outputs": [],
   "source": []
  }
 ],
 "metadata": {
  "kernelspec": {
   "display_name": "Python 3 (ipykernel)",
   "language": "python",
   "name": "python3"
  },
  "language_info": {
   "codemirror_mode": {
    "name": "ipython",
    "version": 3
   },
   "file_extension": ".py",
   "mimetype": "text/x-python",
   "name": "python",
   "nbconvert_exporter": "python",
   "pygments_lexer": "ipython3",
   "version": "3.11.9"
  }
 },
 "nbformat": 4,
 "nbformat_minor": 5
}
