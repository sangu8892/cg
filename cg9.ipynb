{
 "cells": [
  {
   "cell_type": "code",
   "execution_count": 14,
   "id": "3d880445-195a-45fc-bd43-66eacdbde223",
   "metadata": {},
   "outputs": [],
   "source": [
    "#pgm9 canny edge detection and laplacian\n",
    "\n",
    "import cv2\n",
    "import numpy as np\n",
    "\n",
    "def display_image(title,image):\n",
    "    cv2.imshow(title,image)\n",
    "    cv2.waitKey(0)\n",
    "    cv2.destroyAllWindows()\n",
    "\n",
    "def canny_edge_detection(image):\n",
    "    gray=cv2.cvtColor(image,cv2.COLOR_BGR2GRAY)\n",
    "    blurred=cv2.GaussianBlur(gray,(5,5),0)\n",
    "    edges=cv2.Canny(blurred,50,150)\n",
    "    return edges\n",
    "\n",
    "def texture_filtering(image):\n",
    "    gray=cv2.cvtColor(image,cv2.COLOR_BGR2GRAY)\n",
    "    laplacian=cv2.Laplacian(gray,cv2.CV_64F)\n",
    "    laplacian_uint8=np.uint8(np.absolute(laplacian))\n",
    "    return laplacian\n",
    "\n",
    "def main():\n",
    "    img_path=\"c.jpeg\"\n",
    "    org=cv2.imread(img_path)\n",
    "    canny_edge=canny_edge_detection(org)\n",
    "    display_image(\"canny edge detection\",canny_edge)\n",
    "    texture=texture_filtering(org)\n",
    "    display_image(\"texture filter\",texture)\n",
    "\n",
    "if __name__==\"__main__\":\n",
    "    main()\n",
    "    \n",
    "    "
   ]
  },
  {
   "cell_type": "code",
   "execution_count": null,
   "id": "72772418-e483-4ae0-98a7-9cee4821ca70",
   "metadata": {},
   "outputs": [],
   "source": []
  }
 ],
 "metadata": {
  "kernelspec": {
   "display_name": "Python 3 (ipykernel)",
   "language": "python",
   "name": "python3"
  },
  "language_info": {
   "codemirror_mode": {
    "name": "ipython",
    "version": 3
   },
   "file_extension": ".py",
   "mimetype": "text/x-python",
   "name": "python",
   "nbconvert_exporter": "python",
   "pygments_lexer": "ipython3",
   "version": "3.11.9"
  }
 },
 "nbformat": 4,
 "nbformat_minor": 5
}
